{
 "cells": [
  {
   "cell_type": "markdown",
   "id": "39dada4d",
   "metadata": {},
   "source": [
    "# Summer Olympics Data Analysis Assignment"
   ]
  },
  {
   "cell_type": "markdown",
   "id": "e1391d89",
   "metadata": {},
   "source": [
    "## 1. In how many cities Summer Olympics is held so far?"
   ]
  },
  {
   "cell_type": "markdown",
   "id": "f3c7f3a6",
   "metadata": {},
   "source": [
    "Answer =  Total 22 cities summer olympic is held so far"
   ]
  },
  {
   "cell_type": "markdown",
   "id": "fd258d9c",
   "metadata": {},
   "source": [
    "## 2. Which sport is having most number of Gold Medals so far? (Top 5)"
   ]
  },
  {
   "cell_type": "markdown",
   "id": "8e4ce766",
   "metadata": {},
   "source": [
    "Answer = 'Aquatics' has most number of gold medal so far.\n",
    "\n"
   ]
  },
  {
   "cell_type": "markdown",
   "id": "52615432",
   "metadata": {},
   "source": [
    "## 3. Which sport is having most number of medals so far? (Top 5)"
   ]
  },
  {
   "cell_type": "markdown",
   "id": "47f03b5e",
   "metadata": {},
   "source": [
    "Answer = Aquatics Event Has most number of medals so far."
   ]
  },
  {
   "cell_type": "markdown",
   "id": "83fa373c",
   "metadata": {},
   "source": [
    "## 4. Which player has won most number of medals? (Top 5)"
   ]
  },
  {
   "cell_type": "markdown",
   "id": "bfa03ac4",
   "metadata": {},
   "source": [
    "Answer = PHELPS, Michael has most number of medals."
   ]
  },
  {
   "cell_type": "markdown",
   "id": "ab8e485d",
   "metadata": {},
   "source": [
    "## 5. Which player has won most number Gold Medals of medals? (Top 5)"
   ]
  },
  {
   "cell_type": "markdown",
   "id": "eb26b1e4",
   "metadata": {},
   "source": [
    "Answer = PHELPS, Michael wins the most number of gold medals."
   ]
  },
  {
   "cell_type": "markdown",
   "id": "5bc5068a",
   "metadata": {},
   "source": [
    "## 6. In which year India won first Gold Medal in Summer Olympics?"
   ]
  },
  {
   "cell_type": "markdown",
   "id": "68deba79",
   "metadata": {},
   "source": [
    "Answer = In 1928 India won the first gold medal."
   ]
  },
  {
   "cell_type": "markdown",
   "id": "e9034c4c",
   "metadata": {},
   "source": [
    "## 7. Which event is most popular in terms on number of players? (Top 5)"
   ]
  },
  {
   "cell_type": "markdown",
   "id": "40aab994",
   "metadata": {},
   "source": [
    "Answer = Football is the most popular in terms on number of players."
   ]
  },
  {
   "cell_type": "markdown",
   "id": "66fdc00f",
   "metadata": {},
   "source": [
    "## 8. Which sport is having most female Gold Medalists? (Top 5)"
   ]
  },
  {
   "cell_type": "markdown",
   "id": "d5b0c760",
   "metadata": {},
   "source": [
    "Answer = In Aquatics Event, there are most female gold medalist"
   ]
  },
  {
   "cell_type": "markdown",
   "id": "f63c08d5",
   "metadata": {},
   "source": [
    "# *Please check Summer Olympic.ipynb file, for explanation*"
   ]
  },
  {
   "cell_type": "markdown",
   "id": "c53059dc",
   "metadata": {},
   "source": [
    "# *Please check README.md file, or the repository for every specific Bar graph plot*"
   ]
  },
  {
   "cell_type": "code",
   "execution_count": null,
   "id": "8c3272a0",
   "metadata": {},
   "outputs": [],
   "source": []
  }
 ],
 "metadata": {
  "kernelspec": {
   "display_name": "Python 3",
   "language": "python",
   "name": "python3"
  },
  "language_info": {
   "codemirror_mode": {
    "name": "ipython",
    "version": 3
   },
   "file_extension": ".py",
   "mimetype": "text/x-python",
   "name": "python",
   "nbconvert_exporter": "python",
   "pygments_lexer": "ipython3",
   "version": "3.8.8"
  }
 },
 "nbformat": 4,
 "nbformat_minor": 5
}
